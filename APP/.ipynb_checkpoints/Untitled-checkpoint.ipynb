{
 "cells": [
  {
   "cell_type": "code",
   "execution_count": 1,
   "id": "f5c68387",
   "metadata": {},
   "outputs": [
    {
     "name": "stderr",
     "output_type": "stream",
     "text": [
      "/Users/M/Desktop/TensorNets/venv/lib/python3.9/site-packages/torch/utils/tensorboard/__init__.py:4: DeprecationWarning: distutils Version classes are deprecated. Use packaging.version instead.\n",
      "  if not hasattr(tensorboard, '__version__') or LooseVersion(tensorboard.__version__) < LooseVersion('1.15'):\n"
     ]
    }
   ],
   "source": [
    "import os\n",
    "import time\n",
    "from pathlib import Path\n",
    "import pickle\n",
    "import wandb\n",
    "import numpy as np\n",
    "import jax\n",
    "import jax.numpy as jnp \n",
    "import haiku as hk\n",
    "from stable_baselines3.ppo import CnnPolicy\n",
    "from stable_baselines3 import PPO\n",
    "from stable_baselines3.common.vec_env import DummyVecEnv, VecVideoRecorder\n",
    "from stable_baselines3.common.monitor import Monitor\n",
    "from pettingzoo.utils import random_demo\n",
    "import imageio\n",
    "from src.util import *"
   ]
  },
  {
   "cell_type": "code",
   "execution_count": 192,
   "id": "6c442bd6",
   "metadata": {},
   "outputs": [],
   "source": [
    "_path = '../pkls/models/model'\n",
    "model = PPO.load(_path)\n",
    "model_features= hk.transform(my_model)\n",
    "rng = jax.random.PRNGKey(0)                                                \n",
    "examples = jax.random.normal(rng,(32,84,84,3))                                     \n",
    "model_features_params = model_features.init(rng, examples)\n",
    "\n",
    "model_params = model.get_parameters()['policy']\n",
    "transferred_params = transfer_params(model.get_parameters()['policy'], model_features_params)"
   ]
  },
  {
   "cell_type": "code",
   "execution_count": 193,
   "id": "46964c27",
   "metadata": {},
   "outputs": [
    {
     "data": {
      "text/plain": [
       "odict_keys(['log_std', 'features_extractor.cnn.0.weight', 'features_extractor.cnn.0.bias', 'features_extractor.cnn.2.weight', 'features_extractor.cnn.2.bias', 'features_extractor.cnn.4.weight', 'features_extractor.cnn.4.bias', 'features_extractor.linear.0.weight', 'features_extractor.linear.0.bias', 'action_net.weight', 'action_net.bias', 'value_net.weight', 'value_net.bias'])"
      ]
     },
     "execution_count": 193,
     "metadata": {},
     "output_type": "execute_result"
    }
   ],
   "source": [
    "model_params.keys()"
   ]
  },
  {
   "cell_type": "code",
   "execution_count": 194,
   "id": "107d5308",
   "metadata": {},
   "outputs": [
    {
     "data": {
      "text/plain": [
       "(1, 512)"
      ]
     },
     "execution_count": 194,
     "metadata": {},
     "output_type": "execute_result"
    }
   ],
   "source": [
    "m_w = np.array(model_params['value_net.weight']).round(3)\n",
    "m_w.shape"
   ]
  },
  {
   "cell_type": "code",
   "execution_count": 195,
   "id": "ab72794a",
   "metadata": {},
   "outputs": [
    {
     "data": {
      "text/plain": [
       "dict_keys(['log_std', 'NatureCNN_l1', 'NatureCNN_l2', 'NatureCNN_l3', 'NatureCNN_l4', 'policy_net/~/linear_0', 'value_net/~/linear_0'])"
      ]
     },
     "execution_count": 195,
     "metadata": {},
     "output_type": "execute_result"
    }
   ],
   "source": [
    "transferred_params.keys()"
   ]
  },
  {
   "cell_type": "code",
   "execution_count": 196,
   "id": "ed84dbae",
   "metadata": {},
   "outputs": [
    {
     "data": {
      "text/plain": [
       "(1, 512)"
      ]
     },
     "execution_count": 196,
     "metadata": {},
     "output_type": "execute_result"
    }
   ],
   "source": [
    "t_w = np.array(transferred_params['value_net/~/linear_0']['w'].T).round(3)\n",
    "t_w.shape"
   ]
  },
  {
   "cell_type": "code",
   "execution_count": 197,
   "id": "ce736458",
   "metadata": {},
   "outputs": [
    {
     "name": "stdout",
     "output_type": "stream",
     "text": [
      "ok\n"
     ]
    }
   ],
   "source": [
    "if (m_w == t_w).all():\n",
    "    print('ok')"
   ]
  },
  {
   "cell_type": "code",
   "execution_count": 198,
   "id": "893d0567",
   "metadata": {},
   "outputs": [
    {
     "data": {
      "text/plain": [
       "(array([[ 1.],\n",
       "        [-1.],\n",
       "        [-1.],\n",
       "        [ 1.],\n",
       "        [-1.],\n",
       "        [ 1.],\n",
       "        [-1.],\n",
       "        [-1.],\n",
       "        [-1.],\n",
       "        [-1.],\n",
       "        [-1.],\n",
       "        [-1.],\n",
       "        [ 1.],\n",
       "        [ 1.],\n",
       "        [ 1.],\n",
       "        [-1.],\n",
       "        [-1.],\n",
       "        [ 1.],\n",
       "        [-1.],\n",
       "        [-1.],\n",
       "        [ 1.],\n",
       "        [-1.],\n",
       "        [-1.],\n",
       "        [ 1.],\n",
       "        [-1.],\n",
       "        [ 1.],\n",
       "        [-1.],\n",
       "        [-1.],\n",
       "        [-1.],\n",
       "        [ 1.],\n",
       "        [-1.],\n",
       "        [-1.]], dtype=float32),\n",
       " None)"
      ]
     },
     "execution_count": 198,
     "metadata": {},
     "output_type": "execute_result"
    }
   ],
   "source": [
    "model.predict(np.array(examples))"
   ]
  },
  {
   "cell_type": "code",
   "execution_count": 201,
   "id": "bf34cc84",
   "metadata": {},
   "outputs": [
    {
     "data": {
      "text/plain": [
       "(DeviceArray([[1.],\n",
       "              [1.],\n",
       "              [1.],\n",
       "              [1.],\n",
       "              [1.],\n",
       "              [1.],\n",
       "              [1.],\n",
       "              [1.],\n",
       "              [1.],\n",
       "              [1.],\n",
       "              [1.],\n",
       "              [1.],\n",
       "              [1.],\n",
       "              [1.],\n",
       "              [1.],\n",
       "              [1.],\n",
       "              [1.],\n",
       "              [1.],\n",
       "              [1.],\n",
       "              [1.],\n",
       "              [1.],\n",
       "              [1.],\n",
       "              [1.],\n",
       "              [1.],\n",
       "              [1.],\n",
       "              [1.],\n",
       "              [1.],\n",
       "              [1.],\n",
       "              [1.],\n",
       "              [1.],\n",
       "              [1.],\n",
       "              [1.]], dtype=float32),\n",
       " DeviceArray([[0.41194236],\n",
       "              [0.45739055],\n",
       "              [0.40698707],\n",
       "              [0.40846205],\n",
       "              [0.1544565 ],\n",
       "              [0.34229088],\n",
       "              [0.41391855],\n",
       "              [0.36223626],\n",
       "              [0.30217206],\n",
       "              [0.50109744],\n",
       "              [0.36380816],\n",
       "              [0.2829895 ],\n",
       "              [0.44959116],\n",
       "              [0.3888387 ],\n",
       "              [0.64413655],\n",
       "              [0.5513285 ],\n",
       "              [0.32517928],\n",
       "              [0.28401798],\n",
       "              [0.2186104 ],\n",
       "              [0.5151893 ],\n",
       "              [0.32686126],\n",
       "              [0.474378  ],\n",
       "              [0.29634297],\n",
       "              [0.46941364],\n",
       "              [0.40366858],\n",
       "              [0.2755484 ],\n",
       "              [0.26136464],\n",
       "              [0.12476826],\n",
       "              [0.29344416],\n",
       "              [0.12947893],\n",
       "              [0.42164528],\n",
       "              [0.39004105]], dtype=float32),\n",
       " DeviceArray([[-3.2147346],\n",
       "              [-3.2147346],\n",
       "              [-3.2147346],\n",
       "              [-3.2147346],\n",
       "              [-3.2147346],\n",
       "              [-3.2147346],\n",
       "              [-3.2147346],\n",
       "              [-3.2147346],\n",
       "              [-3.2147346],\n",
       "              [-3.2147346],\n",
       "              [-3.2147346],\n",
       "              [-3.2147346],\n",
       "              [-3.2147346],\n",
       "              [-3.2147346],\n",
       "              [-3.2147346],\n",
       "              [-3.2147346],\n",
       "              [-3.2147346],\n",
       "              [-3.2147346],\n",
       "              [-3.2147346],\n",
       "              [-3.2147346],\n",
       "              [-3.2147346],\n",
       "              [-3.2147346],\n",
       "              [-3.2147346],\n",
       "              [-3.2147346],\n",
       "              [-3.2147346],\n",
       "              [-3.2147346],\n",
       "              [-3.2147346],\n",
       "              [-3.2147346],\n",
       "              [-3.2147346],\n",
       "              [-3.2147346],\n",
       "              [-3.2147346],\n",
       "              [-3.2147346]], dtype=float32))"
      ]
     },
     "execution_count": 201,
     "metadata": {},
     "output_type": "execute_result"
    }
   ],
   "source": [
    "model_features.apply(transferred_params,rng,examples)"
   ]
  },
  {
   "cell_type": "code",
   "execution_count": null,
   "id": "2a2c5da7",
   "metadata": {},
   "outputs": [],
   "source": []
  }
 ],
 "metadata": {
  "kernelspec": {
   "display_name": "TN",
   "language": "python",
   "name": "tn"
  },
  "language_info": {
   "codemirror_mode": {
    "name": "ipython",
    "version": 3
   },
   "file_extension": ".py",
   "mimetype": "text/x-python",
   "name": "python",
   "nbconvert_exporter": "python",
   "pygments_lexer": "ipython3",
   "version": "3.9.10"
  }
 },
 "nbformat": 4,
 "nbformat_minor": 5
}
